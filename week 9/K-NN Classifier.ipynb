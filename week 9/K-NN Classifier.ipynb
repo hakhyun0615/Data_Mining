{
 "cells": [
  {
   "cell_type": "code",
   "execution_count": 2,
   "metadata": {},
   "outputs": [
    {
     "data": {
      "image/png": "[encoded data removed]",
      "text/plain": [
       "<Figure size 432x288 with 1 Axes>"
      ]
     },
     "metadata": {
      "needs_background": "light"
     },
     "output_type": "display_data"
    }
   ],
   "source": [
    "import pandas as pd\n",
    "import matplotlib.pyplot as plt\n",
    "from sklearn.model_selection import train_test_split\n",
    "\n",
    "# Load the dataset\n",
    "url = \"https://raw.githubusercontent.com/reisanar/datasets/master/RidingMowers.csv\"\n",
    "mower_df = pd.read_csv(url)\n",
    "mower_df['Number'] = mower_df.index + 1\n",
    "\n",
    "# Split the data into training and validation sets\n",
    "trainData, validData = train_test_split(mower_df, test_size=0.4, random_state=26)\n",
    "\n",
    "# New household data\n",
    "newHousehold = pd.DataFrame([{'Income': 60, 'Lot_Size': 20}])\n",
    "\n",
    "# Scatter plot function\n",
    "def plotDataset(ax, data, showLabel=True, **kwargs):\n",
    "    # Plot Owner data points\n",
    "    subset = data.loc[data['Ownership'] == 'Owner']\n",
    "    ax.scatter(subset.Income, subset.Lot_Size, marker='o',\n",
    "               label='Owner' if showLabel else None, color='C1', **kwargs)\n",
    "    # Plot Nonowner data points\n",
    "    subset = data.loc[data['Ownership'] == 'Nonowner']\n",
    "    ax.scatter(subset.Income, subset.Lot_Size, marker='D',\n",
    "               label='Nonowner' if showLabel else None, color='C0', **kwargs)\n",
    "    # Set axis labels\n",
    "    plt.xlabel('Income')\n",
    "    plt.ylabel('Lot_Size')\n",
    "    # Annotate points\n",
    "    for _, row in data.iterrows():\n",
    "        ax.annotate(row.Number, (row.Income + 2, row.Lot_Size))\n",
    "\n",
    "# Create the plot\n",
    "fig, ax = plt.subplots()\n",
    "\n",
    "# Plot the training data\n",
    "plotDataset(ax, trainData)\n",
    "\n",
    "# Plot the validation data\n",
    "plotDataset(ax, validData, showLabel=False, facecolors='none')\n",
    "\n",
    "# Plot the new household\n",
    "ax.scatter(newHousehold.Income, newHousehold.Lot_Size, marker='*',\n",
    "           label='New household', color='black', s=150)\n",
    "\n",
    "# Set axis labels\n",
    "plt.xlabel('Income')\n",
    "plt.ylabel('Lot_Size')\n",
    "\n",
    "# Adjust axis limits\n",
    "ax.set_xlim(40, 115)\n",
    "\n",
    "# Add legend\n",
    "handles, labels = ax.get_legend_handles_labels()\n",
    "ax.legend(handles, labels, loc=4)\n",
    "\n",
    "# Show the plot\n",
    "plt.show()"
   ]
  },
  {
   "cell_type": "code",
   "execution_count": 3,
   "metadata": {},
   "outputs": [
    {
     "data": {
      "text/html": [
       "<div>\n",
       "<style scoped>\n",
       "    .dataframe tbody tr th:only-of-type {\n",
       "        vertical-align: middle;\n",
       "    }\n",
       "\n",
       "    .dataframe tbody tr th {\n",
       "        vertical-align: top;\n",
       "    }\n",
       "\n",
       "    .dataframe thead th {\n",
       "        text-align: right;\n",
       "    }\n",
       "</style>\n",
       "<table border=\"1\" class=\"dataframe\">\n",
       "  <thead>\n",
       "    <tr style=\"text-align: right;\">\n",
       "      <th></th>\n",
       "      <th>zIncome</th>\n",
       "      <th>zLot_Size</th>\n",
       "      <th>Ownership</th>\n",
       "      <th>Number</th>\n",
       "    </tr>\n",
       "  </thead>\n",
       "  <tbody>\n",
       "    <tr>\n",
       "      <th>3</th>\n",
       "      <td>-0.409776</td>\n",
       "      <td>0.743358</td>\n",
       "      <td>Owner</td>\n",
       "      <td>4</td>\n",
       "    </tr>\n",
       "    <tr>\n",
       "      <th>13</th>\n",
       "      <td>-0.804953</td>\n",
       "      <td>0.743358</td>\n",
       "      <td>Nonowner</td>\n",
       "      <td>14</td>\n",
       "    </tr>\n",
       "    <tr>\n",
       "      <th>0</th>\n",
       "      <td>-0.477910</td>\n",
       "      <td>-0.174908</td>\n",
       "      <td>Owner</td>\n",
       "      <td>1</td>\n",
       "    </tr>\n",
       "  </tbody>\n",
       "</table>\n",
       "</div>"
      ],
      "text/plain": [
       "     zIncome  zLot_Size Ownership  Number\n",
       "3  -0.409776   0.743358     Owner       4\n",
       "13 -0.804953   0.743358  Nonowner      14\n",
       "0  -0.477910  -0.174908     Owner       1"
      ]
     },
     "execution_count": 3,
     "metadata": {},
     "output_type": "execute_result"
    }
   ],
   "source": [
    "from sklearn import preprocessing\n",
    "from sklearn.neighbors import NearestNeighbors\n",
    "\n",
    "# Define predictors and outcome\n",
    "predictors = ['Income', 'Lot_Size']\n",
    "\n",
    "# Initialize normalized training, validation, and complete data frames\n",
    "# Use the training data to learn the transformation\n",
    "scaler = preprocessing.StandardScaler()\n",
    "scaler.fit(trainData[['Income', 'Lot_Size']])  # Note the use of array of column names\n",
    "\n",
    "# Transform the full dataset\n",
    "mowerNorm = pd.concat([pd.DataFrame(scaler.transform(mower_df[['Income', 'Lot_Size']]),\n",
    "                                    columns=['zIncome', 'zLot_Size']),\n",
    "                       mower_df[['Ownership', 'Number']]], axis=1)\n",
    "trainNorm = mowerNorm.iloc[trainData.index]\n",
    "validNorm = mowerNorm.iloc[validData.index]\n",
    "newHouseholdNorm = pd.DataFrame(scaler.transform(newHousehold),\n",
    "                                columns=['zIncome', 'zLot_Size'])\n",
    "\n",
    "# Use NearestNeighbors from scikit-learn to compute nearest neighbors\n",
    "knn = NearestNeighbors(n_neighbors=3)\n",
    "knn.fit(trainNorm.iloc[:, 0:2])\n",
    "distances, indices = knn.kneighbors(newHouseholdNorm)\n",
    "\n",
    "# Output the nearest neighbors\n",
    "trainNorm.iloc[indices[0], :]"
   ]
  },
  {
   "cell_type": "code",
   "execution_count": 4,
   "metadata": {},
   "outputs": [
    {
     "name": "stdout",
     "output_type": "stream",
     "text": [
      "     k  accuracy\n",
      "0    1       0.6\n",
      "1    2       0.7\n",
      "2    3       0.8\n",
      "3    4       0.9\n",
      "4    5       0.7\n",
      "5    6       0.9\n",
      "6    7       0.9\n",
      "7    8       0.9\n",
      "8    9       0.9\n",
      "9   10       0.8\n",
      "10  11       0.8\n",
      "11  12       0.9\n",
      "12  13       0.4\n",
      "13  14       0.4\n"
     ]
    }
   ],
   "source": [
    "from sklearn.neighbors import KNeighborsClassifier\n",
    "from sklearn.metrics import accuracy_score\n",
    "import pandas as pd\n",
    "\n",
    "# Split the normalized data into features (X) and target (y)\n",
    "train_X = trainNorm[['zIncome', 'zLot_Size']]\n",
    "train_y = trainNorm['Ownership']\n",
    "valid_X = validNorm[['zIncome', 'zLot_Size']]\n",
    "valid_y = validNorm['Ownership']\n",
    "\n",
    "# Train a classifier for different values of k\n",
    "results = []\n",
    "for k in range(1, 15):\n",
    "    knn = KNeighborsClassifier(n_neighbors=k).fit(train_X, train_y)\n",
    "    results.append({\n",
    "        'k': k,\n",
    "        'accuracy': accuracy_score(valid_y, knn.predict(valid_X))\n",
    "    })\n",
    "\n",
    "# Convert results to a pandas DataFrame\n",
    "results = pd.DataFrame(results)\n",
    "print(results)"
   ]
  },
  {
   "cell_type": "code",
   "execution_count": null,
   "metadata": {},
   "outputs": [],
   "source": []
  }
 ],
 "metadata": {
  "kernelspec": {
   "display_name": "Python 3",
   "language": "python",
   "name": "python3"
  },
  "language_info": {
   "codemirror_mode": {
    "name": "ipython",
    "version": 3
   },
   "file_extension": ".py",
   "mimetype": "text/x-python",
   "name": "python",
   "nbconvert_exporter": "python",
   "pygments_lexer": "ipython3",
   "version": "3.11.4"
  }
 },
 "nbformat": 4,
 "nbformat_minor": 2
}
