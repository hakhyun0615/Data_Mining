{
 "cells": [
  {
   "cell_type": "markdown",
   "id": "3b74e027-c2ec-4dff-bebb-2c0a0e3f3b78",
   "metadata": {},
   "source": [
    "# Naive Bayes \n",
    "\n",
    "- In this notebook, we will build a classification model using Naive Bayes to predict whether a flight will be delayed or not based on various factors such as the day of the week, departure time, origin, destination, and carrier.\n",
    "\n",
    "- We will use the scikit-learn package for training, evaluating, and making predictions with the classification model. Additionally, we will utilize the pandas library for data manipulation. The MultinomialNB function from scikit-learn will be used for the Naive Bayes model.\n",
    "\n",
    "## 1. Naive Bayes on “Flight Delays” dataset\n",
    "\n",
    "### (1) Prepare the data"
   ]
  },
  {
   "cell_type": "code",
   "execution_count": 1,
   "id": "b7d1ac05-e7ed-44d6-913f-b08204d0fa77",
   "metadata": {},
   "outputs": [],
   "source": [
    "import pandas as pd\n",
    "from sklearn.model_selection import train_test_split\n",
    "from sklearn.naive_bayes import MultinomialNB\n",
    "import matplotlib.pylab as plt"
   ]
  },
  {
   "cell_type": "code",
   "execution_count": 2,
   "id": "5325a050-c7ce-40da-b1db-e814403db6a4",
   "metadata": {},
   "outputs": [],
   "source": [
    "url = \"https://raw.github.com/niharikabalachandra/Logistic-Regression/master/FlightDelays.csv\"\n",
    "delays_df = pd.read_csv(url)"
   ]
  },
  {
   "cell_type": "code",
   "execution_count": 3,
   "id": "433e97bd-a385-47ad-a020-546c92a2e6ee",
   "metadata": {},
   "outputs": [
    {
     "data": {
      "text/html": [
       "<div>\n",
       "<style scoped>\n",
       "    .dataframe tbody tr th:only-of-type {\n",
       "        vertical-align: middle;\n",
       "    }\n",
       "\n",
       "    .dataframe tbody tr th {\n",
       "        vertical-align: top;\n",
       "    }\n",
       "\n",
       "    .dataframe thead th {\n",
       "        text-align: right;\n",
       "    }\n",
       "</style>\n",
       "<table border=\"1\" class=\"dataframe\">\n",
       "  <thead>\n",
       "    <tr style=\"text-align: right;\">\n",
       "      <th></th>\n",
       "      <th>schedtime</th>\n",
       "      <th>carrier</th>\n",
       "      <th>deptime</th>\n",
       "      <th>dest</th>\n",
       "      <th>distance</th>\n",
       "      <th>date</th>\n",
       "      <th>flightnumber</th>\n",
       "      <th>origin</th>\n",
       "      <th>weather</th>\n",
       "      <th>dayweek</th>\n",
       "      <th>daymonth</th>\n",
       "      <th>tailnu</th>\n",
       "      <th>delay</th>\n",
       "    </tr>\n",
       "  </thead>\n",
       "  <tbody>\n",
       "    <tr>\n",
       "      <th>0</th>\n",
       "      <td>1455</td>\n",
       "      <td>OH</td>\n",
       "      <td>1455</td>\n",
       "      <td>JFK</td>\n",
       "      <td>184</td>\n",
       "      <td>1/1/2004</td>\n",
       "      <td>5935</td>\n",
       "      <td>BWI</td>\n",
       "      <td>0</td>\n",
       "      <td>4</td>\n",
       "      <td>1</td>\n",
       "      <td>N940CA</td>\n",
       "      <td>ontime</td>\n",
       "    </tr>\n",
       "    <tr>\n",
       "      <th>1</th>\n",
       "      <td>1640</td>\n",
       "      <td>DH</td>\n",
       "      <td>1640</td>\n",
       "      <td>JFK</td>\n",
       "      <td>213</td>\n",
       "      <td>1/1/2004</td>\n",
       "      <td>6155</td>\n",
       "      <td>DCA</td>\n",
       "      <td>0</td>\n",
       "      <td>4</td>\n",
       "      <td>1</td>\n",
       "      <td>N405FJ</td>\n",
       "      <td>ontime</td>\n",
       "    </tr>\n",
       "    <tr>\n",
       "      <th>2</th>\n",
       "      <td>1245</td>\n",
       "      <td>DH</td>\n",
       "      <td>1245</td>\n",
       "      <td>LGA</td>\n",
       "      <td>229</td>\n",
       "      <td>1/1/2004</td>\n",
       "      <td>7208</td>\n",
       "      <td>IAD</td>\n",
       "      <td>0</td>\n",
       "      <td>4</td>\n",
       "      <td>1</td>\n",
       "      <td>N695BR</td>\n",
       "      <td>ontime</td>\n",
       "    </tr>\n",
       "    <tr>\n",
       "      <th>3</th>\n",
       "      <td>1715</td>\n",
       "      <td>DH</td>\n",
       "      <td>1709</td>\n",
       "      <td>LGA</td>\n",
       "      <td>229</td>\n",
       "      <td>1/1/2004</td>\n",
       "      <td>7215</td>\n",
       "      <td>IAD</td>\n",
       "      <td>0</td>\n",
       "      <td>4</td>\n",
       "      <td>1</td>\n",
       "      <td>N662BR</td>\n",
       "      <td>ontime</td>\n",
       "    </tr>\n",
       "    <tr>\n",
       "      <th>4</th>\n",
       "      <td>1039</td>\n",
       "      <td>DH</td>\n",
       "      <td>1035</td>\n",
       "      <td>LGA</td>\n",
       "      <td>229</td>\n",
       "      <td>1/1/2004</td>\n",
       "      <td>7792</td>\n",
       "      <td>IAD</td>\n",
       "      <td>0</td>\n",
       "      <td>4</td>\n",
       "      <td>1</td>\n",
       "      <td>N698BR</td>\n",
       "      <td>ontime</td>\n",
       "    </tr>\n",
       "  </tbody>\n",
       "</table>\n",
       "</div>"
      ],
      "text/plain": [
       "   schedtime carrier  deptime dest  distance      date  flightnumber origin  \\\n",
       "0       1455      OH     1455  JFK       184  1/1/2004          5935    BWI   \n",
       "1       1640      DH     1640  JFK       213  1/1/2004          6155    DCA   \n",
       "2       1245      DH     1245  LGA       229  1/1/2004          7208    IAD   \n",
       "3       1715      DH     1709  LGA       229  1/1/2004          7215    IAD   \n",
       "4       1039      DH     1035  LGA       229  1/1/2004          7792    IAD   \n",
       "\n",
       "   weather  dayweek  daymonth  tailnu   delay  \n",
       "0        0        4         1  N940CA  ontime  \n",
       "1        0        4         1  N405FJ  ontime  \n",
       "2        0        4         1  N695BR  ontime  \n",
       "3        0        4         1  N662BR  ontime  \n",
       "4        0        4         1  N698BR  ontime  "
      ]
     },
     "execution_count": 3,
     "metadata": {},
     "output_type": "execute_result"
    }
   ],
   "source": [
    "delays_df.head()"
   ]
  },
  {
   "cell_type": "markdown",
   "id": "4af47677-3a3b-462a-aa7f-0c02a1929371",
   "metadata": {},
   "source": [
    "### (2) Preprocessing\n",
    "\n",
    "- Convert certain columns to categorical variables.\n",
    "- Round the departure times to create hourly bins."
   ]
  },
  {
   "cell_type": "code",
   "execution_count": 4,
   "id": "efcb3334-5f20-48b8-986b-bed4a9dc0076",
   "metadata": {},
   "outputs": [],
   "source": [
    "# convert to categorical\n",
    "delays_df.dayweek = delays_df.dayweek.astype('category') # In sklearn, Naive Bayes is implemented using only numerical or categorical(binary) variables -> independence for each variable is not secured\n",
    "delays_df['delay'] = delays_df['delay'].astype('category')\n",
    "\n",
    "# create hourly bins departure time \n",
    "delays_df.schedtime = [round(t / 100) for t in delays_df.schedtime]\n",
    "delays_df.schedtime = delays_df.schedtime.astype('category')\n",
    "\n",
    "predictors = ['dayweek', 'schedtime', 'origin', 'dest', 'carrier']\n",
    "outcome = 'delay'\n",
    "\n",
    "X = pd.get_dummies(delays_df[predictors])\n",
    "y = delays_df['delay']\n",
    "\n",
    "classes = list(y.cat.categories)"
   ]
  },
  {
   "cell_type": "code",
   "execution_count": 5,
   "id": "e7944291-2f0f-439e-8b27-d6ac2ddef1e7",
   "metadata": {},
   "outputs": [
    {
     "data": {
      "text/html": [
       "<div>\n",
       "<style scoped>\n",
       "    .dataframe tbody tr th:only-of-type {\n",
       "        vertical-align: middle;\n",
       "    }\n",
       "\n",
       "    .dataframe tbody tr th {\n",
       "        vertical-align: top;\n",
       "    }\n",
       "\n",
       "    .dataframe thead th {\n",
       "        text-align: right;\n",
       "    }\n",
       "</style>\n",
       "<table border=\"1\" class=\"dataframe\">\n",
       "  <thead>\n",
       "    <tr style=\"text-align: right;\">\n",
       "      <th></th>\n",
       "      <th>dayweek_1</th>\n",
       "      <th>dayweek_2</th>\n",
       "      <th>dayweek_3</th>\n",
       "      <th>dayweek_4</th>\n",
       "      <th>dayweek_5</th>\n",
       "      <th>dayweek_6</th>\n",
       "      <th>dayweek_7</th>\n",
       "      <th>schedtime_6</th>\n",
       "      <th>schedtime_7</th>\n",
       "      <th>schedtime_8</th>\n",
       "      <th>...</th>\n",
       "      <th>dest_JFK</th>\n",
       "      <th>dest_LGA</th>\n",
       "      <th>carrier_CO</th>\n",
       "      <th>carrier_DH</th>\n",
       "      <th>carrier_DL</th>\n",
       "      <th>carrier_MQ</th>\n",
       "      <th>carrier_OH</th>\n",
       "      <th>carrier_RU</th>\n",
       "      <th>carrier_UA</th>\n",
       "      <th>carrier_US</th>\n",
       "    </tr>\n",
       "  </thead>\n",
       "  <tbody>\n",
       "    <tr>\n",
       "      <th>0</th>\n",
       "      <td>False</td>\n",
       "      <td>False</td>\n",
       "      <td>False</td>\n",
       "      <td>True</td>\n",
       "      <td>False</td>\n",
       "      <td>False</td>\n",
       "      <td>False</td>\n",
       "      <td>False</td>\n",
       "      <td>False</td>\n",
       "      <td>False</td>\n",
       "      <td>...</td>\n",
       "      <td>True</td>\n",
       "      <td>False</td>\n",
       "      <td>False</td>\n",
       "      <td>False</td>\n",
       "      <td>False</td>\n",
       "      <td>False</td>\n",
       "      <td>True</td>\n",
       "      <td>False</td>\n",
       "      <td>False</td>\n",
       "      <td>False</td>\n",
       "    </tr>\n",
       "    <tr>\n",
       "      <th>1</th>\n",
       "      <td>False</td>\n",
       "      <td>False</td>\n",
       "      <td>False</td>\n",
       "      <td>True</td>\n",
       "      <td>False</td>\n",
       "      <td>False</td>\n",
       "      <td>False</td>\n",
       "      <td>False</td>\n",
       "      <td>False</td>\n",
       "      <td>False</td>\n",
       "      <td>...</td>\n",
       "      <td>True</td>\n",
       "      <td>False</td>\n",
       "      <td>False</td>\n",
       "      <td>True</td>\n",
       "      <td>False</td>\n",
       "      <td>False</td>\n",
       "      <td>False</td>\n",
       "      <td>False</td>\n",
       "      <td>False</td>\n",
       "      <td>False</td>\n",
       "    </tr>\n",
       "  </tbody>\n",
       "</table>\n",
       "<p>2 rows × 37 columns</p>\n",
       "</div>"
      ],
      "text/plain": [
       "   dayweek_1  dayweek_2  dayweek_3  dayweek_4  dayweek_5  dayweek_6  \\\n",
       "0      False      False      False       True      False      False   \n",
       "1      False      False      False       True      False      False   \n",
       "\n",
       "   dayweek_7  schedtime_6  schedtime_7  schedtime_8  ...  dest_JFK  dest_LGA  \\\n",
       "0      False        False        False        False  ...      True     False   \n",
       "1      False        False        False        False  ...      True     False   \n",
       "\n",
       "   carrier_CO  carrier_DH  carrier_DL  carrier_MQ  carrier_OH  carrier_RU  \\\n",
       "0       False       False       False       False        True       False   \n",
       "1       False        True       False       False       False       False   \n",
       "\n",
       "   carrier_UA  carrier_US  \n",
       "0       False       False  \n",
       "1       False       False  \n",
       "\n",
       "[2 rows x 37 columns]"
      ]
     },
     "execution_count": 5,
     "metadata": {},
     "output_type": "execute_result"
    }
   ],
   "source": [
    "X.head(2)"
   ]
  },
  {
   "cell_type": "markdown",
   "id": "d261aedc-fc76-4eaa-b8b1-4ca8fa293138",
   "metadata": {},
   "source": [
    "### (3) Split the data into training and test sets"
   ]
  },
  {
   "cell_type": "code",
   "execution_count": 6,
   "id": "8af37849-48eb-4da1-bcbd-5cbac7069868",
   "metadata": {},
   "outputs": [],
   "source": [
    "# split into training and test\n",
    "X_train, X_test, y_train, y_test = train_test_split(X, y, test_size=0.40, random_state=1)"
   ]
  },
  {
   "cell_type": "markdown",
   "id": "c3859363-0bc3-4d9d-95d5-f1852a30e073",
   "metadata": {},
   "source": [
    "### (4) Define and train a Naive Bayes model"
   ]
  },
  {
   "cell_type": "code",
   "execution_count": 7,
   "id": "e5a5802f-ef58-4925-87b7-01f1f1dd3632",
   "metadata": {},
   "outputs": [
    {
     "data": {
      "text/html": [
       "<style>#sk-container-id-1 {color: black;background-color: white;}#sk-container-id-1 pre{padding: 0;}#sk-container-id-1 div.sk-toggleable {background-color: white;}#sk-container-id-1 label.sk-toggleable__label {cursor: pointer;display: block;width: 100%;margin-bottom: 0;padding: 0.3em;box-sizing: border-box;text-align: center;}#sk-container-id-1 label.sk-toggleable__label-arrow:before {content: \"▸\";float: left;margin-right: 0.25em;color: #696969;}#sk-container-id-1 label.sk-toggleable__label-arrow:hover:before {color: black;}#sk-container-id-1 div.sk-estimator:hover label.sk-toggleable__label-arrow:before {color: black;}#sk-container-id-1 div.sk-toggleable__content {max-height: 0;max-width: 0;overflow: hidden;text-align: left;background-color: #f0f8ff;}#sk-container-id-1 div.sk-toggleable__content pre {margin: 0.2em;color: black;border-radius: 0.25em;background-color: #f0f8ff;}#sk-container-id-1 input.sk-toggleable__control:checked~div.sk-toggleable__content {max-height: 200px;max-width: 100%;overflow: auto;}#sk-container-id-1 input.sk-toggleable__control:checked~label.sk-toggleable__label-arrow:before {content: \"▾\";}#sk-container-id-1 div.sk-estimator input.sk-toggleable__control:checked~label.sk-toggleable__label {background-color: #d4ebff;}#sk-container-id-1 div.sk-label input.sk-toggleable__control:checked~label.sk-toggleable__label {background-color: #d4ebff;}#sk-container-id-1 input.sk-hidden--visually {border: 0;clip: rect(1px 1px 1px 1px);clip: rect(1px, 1px, 1px, 1px);height: 1px;margin: -1px;overflow: hidden;padding: 0;position: absolute;width: 1px;}#sk-container-id-1 div.sk-estimator {font-family: monospace;background-color: #f0f8ff;border: 1px dotted black;border-radius: 0.25em;box-sizing: border-box;margin-bottom: 0.5em;}#sk-container-id-1 div.sk-estimator:hover {background-color: #d4ebff;}#sk-container-id-1 div.sk-parallel-item::after {content: \"\";width: 100%;border-bottom: 1px solid gray;flex-grow: 1;}#sk-container-id-1 div.sk-label:hover label.sk-toggleable__label {background-color: #d4ebff;}#sk-container-id-1 div.sk-serial::before {content: \"\";position: absolute;border-left: 1px solid gray;box-sizing: border-box;top: 0;bottom: 0;left: 50%;z-index: 0;}#sk-container-id-1 div.sk-serial {display: flex;flex-direction: column;align-items: center;background-color: white;padding-right: 0.2em;padding-left: 0.2em;position: relative;}#sk-container-id-1 div.sk-item {position: relative;z-index: 1;}#sk-container-id-1 div.sk-parallel {display: flex;align-items: stretch;justify-content: center;background-color: white;position: relative;}#sk-container-id-1 div.sk-item::before, #sk-container-id-1 div.sk-parallel-item::before {content: \"\";position: absolute;border-left: 1px solid gray;box-sizing: border-box;top: 0;bottom: 0;left: 50%;z-index: -1;}#sk-container-id-1 div.sk-parallel-item {display: flex;flex-direction: column;z-index: 1;position: relative;background-color: white;}#sk-container-id-1 div.sk-parallel-item:first-child::after {align-self: flex-end;width: 50%;}#sk-container-id-1 div.sk-parallel-item:last-child::after {align-self: flex-start;width: 50%;}#sk-container-id-1 div.sk-parallel-item:only-child::after {width: 0;}#sk-container-id-1 div.sk-dashed-wrapped {border: 1px dashed gray;margin: 0 0.4em 0.5em 0.4em;box-sizing: border-box;padding-bottom: 0.4em;background-color: white;}#sk-container-id-1 div.sk-label label {font-family: monospace;font-weight: bold;display: inline-block;line-height: 1.2em;}#sk-container-id-1 div.sk-label-container {text-align: center;}#sk-container-id-1 div.sk-container {/* jupyter's `normalize.less` sets `[hidden] { display: none; }` but bootstrap.min.css set `[hidden] { display: none !important; }` so we also need the `!important` here to be able to override the default hidden behavior on the sphinx rendered scikit-learn.org. See: https://github.com/scikit-learn/scikit-learn/issues/21755 */display: inline-block !important;position: relative;}#sk-container-id-1 div.sk-text-repr-fallback {display: none;}</style><div id=\"sk-container-id-1\" class=\"sk-top-container\"><div class=\"sk-text-repr-fallback\"><pre>MultinomialNB(alpha=0.01)</pre><b>In a Jupyter environment, please rerun this cell to show the HTML representation or trust the notebook. <br />On GitHub, the HTML representation is unable to render, please try loading this page with nbviewer.org.</b></div><div class=\"sk-container\" hidden><div class=\"sk-item\"><div class=\"sk-estimator sk-toggleable\"><input class=\"sk-toggleable__control sk-hidden--visually\" id=\"sk-estimator-id-1\" type=\"checkbox\" checked><label for=\"sk-estimator-id-1\" class=\"sk-toggleable__label sk-toggleable__label-arrow\">MultinomialNB</label><div class=\"sk-toggleable__content\"><pre>MultinomialNB(alpha=0.01)</pre></div></div></div></div></div>"
      ],
      "text/plain": [
       "MultinomialNB(alpha=0.01)"
      ]
     },
     "execution_count": 7,
     "metadata": {},
     "output_type": "execute_result"
    }
   ],
   "source": [
    "# run naive Bayes\n",
    "clf = MultinomialNB(alpha=0.01) # alpha: laplace smoothing parameter\n",
    "clf.fit(X_train, y_train)"
   ]
  },
  {
   "cell_type": "markdown",
   "id": "cda8aef4-5f35-4111-bb1a-a382a50ffdd3",
   "metadata": {},
   "source": [
    "### (5) Predict probabilities and class membership"
   ]
  },
  {
   "cell_type": "code",
   "execution_count": 8,
   "id": "398b2eea-4af1-41b7-9cec-c5116b750422",
   "metadata": {},
   "outputs": [],
   "source": [
    "# predict probabilities\n",
    "predProb_train = clf.predict_proba(X_train)\n",
    "predProb_test = clf.predict_proba(X_test)\n",
    "\n",
    "# predict class membership\n",
    "y_test_pred = clf.predict(X_test)\n",
    "y_train_pred = clf.predict(X_train)"
   ]
  },
  {
   "cell_type": "code",
   "execution_count": 9,
   "id": "74b11d23-3c88-4ab5-a64f-8f7a63dd0e95",
   "metadata": {},
   "outputs": [
    {
     "name": "stdout",
     "output_type": "stream",
     "text": [
      "      actual predicted         0         1\n",
      "1225  ontime    ontime  0.057989  0.942011\n"
     ]
    }
   ],
   "source": [
    "# Subset a specific set\n",
    "df = pd.concat([pd.DataFrame({'actual': y_test, 'predicted': y_test_pred}),\n",
    "                pd.DataFrame(predProb_test, index=y_test.index)], axis=1)\n",
    "mask = ((X_test.carrier_DL == 1) & (X_test.dayweek_7 == 1) & (X_test.schedtime_10 == 1) & \n",
    "        (X_test.dest_LGA == 1) & (X_test.origin_DCA == 1))\n",
    "\n",
    "print(df[mask])"
   ]
  },
  {
   "cell_type": "markdown",
   "id": "3f7a9650-ae87-4541-be10-9fe7b2cbd19a",
   "metadata": {},
   "source": [
    "### (6) Generate probability frequency tables"
   ]
  },
  {
   "cell_type": "code",
   "execution_count": 10,
   "id": "339e27f8-9a34-4c21-a9bb-f0f5bd769505",
   "metadata": {},
   "outputs": [
    {
     "name": "stdout",
     "output_type": "stream",
     "text": [
      "delay\n",
      "ontime     0.8023\n",
      "delayed    0.1977\n",
      "Name: count, dtype: float64\n",
      "\n",
      "dayweek       1       2       3       4       5      6       7\n",
      "delay                                                         \n",
      "delayed  0.1916  0.1494  0.1149  0.1264  0.1877  0.069  0.1609\n",
      "ontime   0.1246  0.1416  0.1445  0.1794  0.1690  0.136  0.1048\n",
      "\n",
      "schedtime       6       7       8       9      10      11      12      13  \\\n",
      "delay                                                                       \n",
      "delayed    0.0345  0.0536  0.0651  0.0192  0.0307  0.0115  0.0498  0.0460   \n",
      "ontime     0.0623  0.0633  0.0850  0.0567  0.0519  0.0340  0.0661  0.0746   \n",
      "\n",
      "schedtime      14      15      16      17      18      19      20      21  \n",
      "delay                                                                      \n",
      "delayed    0.0383  0.2031  0.0728  0.1533  0.0192  0.0996  0.0153  0.0881  \n",
      "ontime     0.0576  0.1171  0.0774  0.1001  0.0349  0.0397  0.0264  0.0529  \n",
      "\n",
      "origin      BWI     DCA     IAD\n",
      "delay                          \n",
      "delayed  0.0805  0.5211  0.3985\n",
      "ontime   0.0604  0.6478  0.2918\n",
      "\n",
      "dest        EWR     JFK     LGA\n",
      "delay                          \n",
      "delayed  0.3793  0.1992  0.4215\n",
      "ontime   0.2663  0.1558  0.5779\n",
      "\n",
      "carrier      CO      DH      DL      MQ      OH      RU      UA      US\n",
      "delay                                                                  \n",
      "delayed  0.0575  0.3142  0.0958  0.2222  0.0077  0.2184  0.0153  0.0690\n",
      "ontime   0.0349  0.2295  0.2040  0.1171  0.0104  0.1690  0.0170  0.2181\n",
      "\n"
     ]
    },
    {
     "name": "stderr",
     "output_type": "stream",
     "text": [
      "/var/folders/xj/_swws2td1j333fqkjhr5tmjr0000gn/T/ipykernel_50216/76458803.py:12: FutureWarning: The default value of observed=False is deprecated and will change to observed=True in a future version of pandas. Specify observed=False to silence this warning and retain the current behavior\n",
      "  freqTable = df.pivot_table(index='delay', columns=predictor, aggfunc=len)\n",
      "/var/folders/xj/_swws2td1j333fqkjhr5tmjr0000gn/T/ipykernel_50216/76458803.py:12: FutureWarning: The default value of observed=False is deprecated and will change to observed=True in a future version of pandas. Specify observed=False to silence this warning and retain the current behavior\n",
      "  freqTable = df.pivot_table(index='delay', columns=predictor, aggfunc=len)\n",
      "/var/folders/xj/_swws2td1j333fqkjhr5tmjr0000gn/T/ipykernel_50216/76458803.py:12: FutureWarning: The default value of observed=False is deprecated and will change to observed=True in a future version of pandas. Specify observed=False to silence this warning and retain the current behavior\n",
      "  freqTable = df.pivot_table(index='delay', columns=predictor, aggfunc=len)\n",
      "/var/folders/xj/_swws2td1j333fqkjhr5tmjr0000gn/T/ipykernel_50216/76458803.py:12: FutureWarning: The default value of observed=False is deprecated and will change to observed=True in a future version of pandas. Specify observed=False to silence this warning and retain the current behavior\n",
      "  freqTable = df.pivot_table(index='delay', columns=predictor, aggfunc=len)\n",
      "/var/folders/xj/_swws2td1j333fqkjhr5tmjr0000gn/T/ipykernel_50216/76458803.py:12: FutureWarning: The default value of observed=False is deprecated and will change to observed=True in a future version of pandas. Specify observed=False to silence this warning and retain the current behavior\n",
      "  freqTable = df.pivot_table(index='delay', columns=predictor, aggfunc=len)\n"
     ]
    }
   ],
   "source": [
    "# split the original data frame into a train and test using the same random_state\n",
    "train_df, test_df = train_test_split(delays_df, test_size=0.4, random_state=1)\n",
    "\n",
    "pd.set_option('display.precision', 4)\n",
    "# probability of flight status\n",
    "print(train_df['delay'].value_counts() / len(train_df))\n",
    "print()\n",
    "\n",
    "for predictor in predictors:\n",
    "    # construct the frequency table\n",
    "    df = train_df[['delay', predictor]]\n",
    "    freqTable = df.pivot_table(index='delay', columns=predictor, aggfunc=len)\n",
    "\n",
    "    # divide each row by the sum of the row to get conditional probabilities\n",
    "    propTable = freqTable.apply(lambda x: x / sum(x), axis=1)\n",
    "    print(propTable)\n",
    "    print()\n",
    "pd.reset_option('display.precision')"
   ]
  },
  {
   "cell_type": "markdown",
   "id": "72555b58-c907-4bb5-93c5-2041e0dea9f7",
   "metadata": {},
   "source": [
    "### (7) Calculate the posterior probabilities for specific cases"
   ]
  },
  {
   "cell_type": "code",
   "execution_count": 11,
   "id": "5b7c89d6-0092-43fd-aad2-da9b71a4ab50",
   "metadata": {},
   "outputs": [
    {
     "name": "stdout",
     "output_type": "stream",
     "text": [
      "P_hat_delayed ~  2.0548742506526157e-05\n",
      "P_hat_ontime ~  0.00033326464123921066\n",
      "P(delayed|...) =  0.05807791183301656\n",
      "P(ontime|...) =  0.9419220881669834\n"
     ]
    }
   ],
   "source": [
    "# P(delayed | Carrier = DL, Day_Week = 7, Dep_Time = 10, Dest = LGA, Origin = DCA)\n",
    "P_hat_delayed = 0.0958 * 0.1609 * 0.0307 * 0.4215 * 0.5211 * 0.1977\n",
    "# P(ontime | Carrier = DL, Day_Week = 7, Dep_Time = 10, Dest = LGA, Origin = DCA)\n",
    "P_hat_ontime = 0.2040 * 0.1048 * 0.0519 * 0.5779 * 0.6478 * 0.8023\n",
    "print('P_hat_delayed ~ ', P_hat_delayed)\n",
    "print('P_hat_ontime ~ ', P_hat_ontime)\n",
    "\n",
    "print('P(delayed|...) = ', P_hat_delayed / (P_hat_delayed + P_hat_ontime))\n",
    "print('P(ontime|...) = ', P_hat_ontime / (P_hat_delayed + P_hat_ontime))"
   ]
  },
  {
   "cell_type": "markdown",
   "id": "0f43dfb5-2d47-4080-8e40-4adf1d9cd1c0",
   "metadata": {},
   "source": [
    "### (8) Evaluate the model using confusion matrix and ROC curve"
   ]
  },
  {
   "cell_type": "code",
   "execution_count": 12,
   "id": "4af50d3e-3157-4deb-a029-78110614c4ba",
   "metadata": {},
   "outputs": [
    {
     "name": "stdout",
     "output_type": "stream",
     "text": [
      "0.7820658342792282\n"
     ]
    }
   ],
   "source": [
    "print(clf.score(X_test, y_test))"
   ]
  },
  {
   "cell_type": "code",
   "execution_count": 13,
   "id": "27360bda-4117-4c49-8e50-60c51fa3619e",
   "metadata": {},
   "outputs": [
    {
     "name": "stdout",
     "output_type": "stream",
     "text": [
      "Confusion Matrix:\n",
      "[[ 26 141]\n",
      " [ 51 663]]\n"
     ]
    },
    {
     "data": {
      "image/png": "[encoded data removed]",
      "text/plain": [
       "<Figure size 432x288 with 2 Axes>"
      ]
     },
     "metadata": {
      "needs_background": "light"
     },
     "output_type": "display_data"
    }
   ],
   "source": [
    "from sklearn.metrics import confusion_matrix, classification_report, ConfusionMatrixDisplay\n",
    "\n",
    "cm = confusion_matrix(y_test, y_test_pred)\n",
    "\n",
    "print(\"Confusion Matrix:\")\n",
    "print(cm)\n",
    "\n",
    "disp = ConfusionMatrixDisplay(confusion_matrix=cm, display_labels=clf.classes_)\n",
    "disp.plot()\n",
    "\n",
    "plt.show()"
   ]
  },
  {
   "cell_type": "code",
   "execution_count": 14,
   "id": "97c736a9-ed0d-490b-abe5-22644ca84fc2",
   "metadata": {},
   "outputs": [
    {
     "data": {
      "image/png": "[encoded data removed]",
      "text/plain": [
       "<Figure size 432x288 with 1 Axes>"
      ]
     },
     "metadata": {
      "needs_background": "light"
     },
     "output_type": "display_data"
    },
    {
     "name": "stdout",
     "output_type": "stream",
     "text": [
      "AUC: 0.64\n"
     ]
    }
   ],
   "source": [
    "from sklearn.metrics import roc_auc_score, roc_curve, auc\n",
    "from sklearn.preprocessing import LabelBinarizer\n",
    "\n",
    "lb = LabelBinarizer()  \n",
    "y_test_binary = lb.fit_transform(y_test)\n",
    "\n",
    "fpr, tpr, thresholds = roc_curve(y_test_binary, predProb_test[:,1])  \n",
    "roc_auc = auc(fpr, tpr)  \n",
    "\n",
    "plt.figure()\n",
    "plt.plot(fpr, tpr, color='darkorange', lw=2, label='ROC curve (area = %0.2f)' % roc_auc)\n",
    "plt.plot([0, 1], [0, 1], color='navy', lw=2, linestyle='--')  # 대각선 (랜덤 모델)\n",
    "plt.xlim([0.0, 1.0])\n",
    "plt.ylim([0.0, 1.05])\n",
    "plt.xlabel('False Positive Rate')\n",
    "plt.ylabel('True Positive Rate')\n",
    "plt.title('Receiver Operating Characteristic (ROC) Curve')\n",
    "plt.legend(loc=\"lower right\")\n",
    "plt.show()\n",
    "\n",
    "print(f'AUC: {roc_auc:.2f}')"
   ]
  },
  {
   "cell_type": "code",
   "execution_count": null,
   "id": "8f79f3ea-ed08-45b2-a253-297c23a9ce10",
   "metadata": {},
   "outputs": [],
   "source": []
  }
 ],
 "metadata": {
  "kernelspec": {
   "display_name": "Python 3 (ipykernel)",
   "language": "python",
   "name": "python3"
  },
  "language_info": {
   "codemirror_mode": {
    "name": "ipython",
    "version": 3
   },
   "file_extension": ".py",
   "mimetype": "text/x-python",
   "name": "python",
   "nbconvert_exporter": "python",
   "pygments_lexer": "ipython3",
   "version": "3.11.4"
  }
 },
 "nbformat": 4,
 "nbformat_minor": 5
}
