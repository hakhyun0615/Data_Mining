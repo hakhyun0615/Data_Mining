{
 "cells": [
  {
   "cell_type": "markdown",
   "id": "0e40c189",
   "metadata": {},
   "source": [
    "# Logistic Regression\n",
    "- 본 노트북 코드에서는\n",
    "    - Logistic Regression을 이용하여 분류 모델을 만들어보고자 합니다.\n",
    "- 패키지는 \n",
    "    - 분류(classification) 모델을 훈련하고 평가 및 예측하는 것은 scikit-learn 패키지를 사용하겠습니다.\n",
    "    - scikit-learn 패키지의 Logistic Regression 함수에 대한 자세한 설명은 아래 문서에서 확인하실 수 있습니다.\n",
    "        - https://scikit-learn.org/stable/modules/generated/sklearn.linear_model.LogisticRegression.html\n"
   ]
  },
  {
   "cell_type": "markdown",
   "id": "7e19eca9",
   "metadata": {},
   "source": [
    "## 1. Logistic Regression on \"Universal Bank\" dataset"
   ]
  },
  {
   "cell_type": "markdown",
   "id": "5c806ce9",
   "metadata": {},
   "source": [
    "### (1) Prepare an example data"
   ]
  },
  {
   "cell_type": "code",
   "execution_count": null,
   "id": "7d23b06c-033e-4e26-9122-f480dbdad4c9",
   "metadata": {},
   "outputs": [],
   "source": [
    "import pandas as pd\n",
    "url = \"https://raw.githubusercontent.com/gchoi/Dataset/master/UniversalBank.csv\"\n",
    "bank_df = pd.read_csv(url)"
   ]
  },
  {
   "cell_type": "code",
   "execution_count": null,
   "id": "104dfa7b-cb13-4865-a3ad-9846721dc243",
   "metadata": {},
   "outputs": [],
   "source": [
    "bank_df"
   ]
  },
  {
   "cell_type": "markdown",
   "id": "c5328e1a-ad97-41e6-8c4c-68cdf9e96890",
   "metadata": {},
   "source": [
    "### (2) Preprocessing"
   ]
  },
  {
   "cell_type": "code",
   "execution_count": null,
   "id": "a2819874-9946-442b-9659-e9772b7dc735",
   "metadata": {},
   "outputs": [],
   "source": [
    "bank_df.drop(columns=['ID', 'ZIP Code'], inplace=True)\n",
    "bank_df.columns = [c.replace(' ', '_') for c in bank_df.columns]\n",
    "\n",
    "# Treat education as categorical, convert to dummy variables\n",
    "bank_df['Education'] = bank_df['Education'].astype('category')\n",
    "new_categories = {1: 'Undergrad', 2: 'Graduate', 3: 'Advanced/Professional'}\n",
    "bank_df.Education = bank_df.Education.cat.rename_categories(new_categories)\n",
    "bank_df = pd.get_dummies(bank_df, prefix_sep='_', drop_first=True, dtype=int)"
   ]
  },
  {
   "cell_type": "code",
   "execution_count": null,
   "id": "0eb7134b-eef2-42bb-a9ba-d7cbc3617df6",
   "metadata": {},
   "outputs": [],
   "source": [
    "bank_df"
   ]
  },
  {
   "cell_type": "code",
   "execution_count": null,
   "id": "fca325ae-47ce-4a00-a6b3-d1182c4526e2",
   "metadata": {},
   "outputs": [],
   "source": [
    "X = bank_df.drop(columns=['PersonalLoan'])\n",
    "y = bank_df['PersonalLoan']"
   ]
  },
  {
   "cell_type": "markdown",
   "id": "db9d4713",
   "metadata": {},
   "source": [
    "### (3) Split the data into training and test sets"
   ]
  },
  {
   "cell_type": "code",
   "execution_count": null,
   "id": "e721f36a",
   "metadata": {},
   "outputs": [],
   "source": [
    "from sklearn.model_selection import train_test_split\n",
    "X_train, X_test, y_train, y_test = train_test_split(X, y, test_size=0.3, random_state=42)"
   ]
  },
  {
   "cell_type": "markdown",
   "id": "cbf4047d",
   "metadata": {},
   "source": [
    "### (4) Define and Train a linear regression model"
   ]
  },
  {
   "cell_type": "code",
   "execution_count": null,
   "id": "5c36514d",
   "metadata": {},
   "outputs": [],
   "source": [
    "from sklearn.linear_model import LogisticRegression\n",
    "\n",
    "clf = LogisticRegression()\n",
    "clf.fit(X_train, y_train)"
   ]
  },
  {
   "cell_type": "markdown",
   "id": "e025a910",
   "metadata": {},
   "source": [
    "### (5) Test and Evaluate the model"
   ]
  },
  {
   "cell_type": "code",
   "execution_count": null,
   "id": "a334867c",
   "metadata": {},
   "outputs": [],
   "source": [
    "# 훈련 데이터와 테스트 데이터의 accuracy 값을 출력한다.\n",
    "print(\"Training set score: {:.3f}\".format(clf.score(X_train, y_train)))\n",
    "print(\"Test set score: {:.3f}\".format(clf.score(X_test, y_test)))"
   ]
  },
  {
   "cell_type": "markdown",
   "id": "abc32ba0",
   "metadata": {},
   "source": [
    "- 모델의 예측이 실제 값과 일치하는 정도를 평가하기 위해 모델의 내장함수인 score 함수를 통해 accuracy 값을 계산해봅시다.\n",
    "- 훈련된 Logistic Regression 모델은 훈련용 데이터셋 분류 정확도 0.957, 테스트 셋 분류 정확도 0.959로 좋은 성능을 보이는 것을 확인할 수 있습니다."
   ]
  },
  {
   "cell_type": "code",
   "execution_count": null,
   "id": "dbf7c125",
   "metadata": {},
   "outputs": [],
   "source": [
    "# accuracy_score 함수를 사용하여 훈련 데이터와 테스트 데이터의 accuracy 값을 구한다.\n",
    "from sklearn.metrics import accuracy_score\n",
    "\n",
    "y_train_hat = clf.predict(X_train)\n",
    "print(accuracy_score(y_train, y_train_hat))\n",
    "\n",
    "y_test_hat = clf.predict(X_test)\n",
    "print(accuracy_score(y_test, y_test_hat))"
   ]
  },
  {
   "cell_type": "code",
   "execution_count": null,
   "id": "ab3be276-ad08-43f9-85a5-087cba788036",
   "metadata": {},
   "outputs": [],
   "source": [
    "print('intercept ', clf.intercept_[0])\n",
    "print()\n",
    "print(pd.DataFrame({'coeff': clf.coef_[0]}, index=X.columns).transpose())\n"
   ]
  },
  {
   "cell_type": "markdown",
   "id": "173d1f51-68a9-47d6-b05d-ca3ed4772173",
   "metadata": {},
   "source": [
    "#### (6) Model Equation\n",
    "- 위의 coefficieints, intercept를 이용하여 모델 식을 구성하면 다음과 같습니다.\n",
    "  \n",
    "    - $logit(Personal Loan = Yes) = -0.383 - 0.425 * Age + 0.428 * Experience + ...$\n",
    "\n",
    "    - $P(Personal Loan = Yes) = \\frac{1}{1+e^{-(-0.383 - 0.425 * Age + 0.428 * Experience + ...)}}$"
   ]
  }
 ],
 "metadata": {
  "kernelspec": {
   "display_name": "Python 3 (ipykernel)",
   "language": "python",
   "name": "python3"
  },
  "language_info": {
   "codemirror_mode": {
    "name": "ipython",
    "version": 3
   },
   "file_extension": ".py",
   "mimetype": "text/x-python",
   "name": "python",
   "nbconvert_exporter": "python",
   "pygments_lexer": "ipython3",
   "version": "3.11.5"
  }
 },
 "nbformat": 4,
 "nbformat_minor": 5
}
