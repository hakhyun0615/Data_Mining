{
 "cells": [
  {
   "cell_type": "code",
   "execution_count": 116,
   "metadata": {},
   "outputs": [],
   "source": [
    "import warnings\n",
    "import numpy as np\n",
    "import pandas as pd\n",
    "import matplotlib.pyplot as plt\n",
    "from sklearn.exceptions import ConvergenceWarning\n",
    "from sklearn.linear_model import LinearRegression\n",
    "from sklearn.linear_model import LogisticRegression\n",
    "from sklearn.discriminant_analysis import LinearDiscriminantAnalysis\n",
    "from sklearn.naive_bayes import GaussianNB\n",
    "from sklearn import tree\n",
    "from sklearn.tree import DecisionTreeClassifier\n",
    "from sklearn.ensemble import BaggingClassifier\n",
    "from sklearn.ensemble import RandomForestClassifier\n",
    "from sklearn.neighbors import KNeighborsClassifier\n",
    "from sklearn.preprocessing import StandardScaler\n",
    "from sklearn.model_selection import RepeatedKFold, train_test_split, cross_val_score\n",
    "from sklearn.metrics import accuracy_score, confusion_matrix, ConfusionMatrixDisplay\n",
    "\n",
    "warnings.filterwarnings(\"ignore\", category=ConvergenceWarning)"
   ]
  },
  {
   "cell_type": "markdown",
   "metadata": {},
   "source": [
    "## problem 1"
   ]
  },
  {
   "cell_type": "code",
   "execution_count": 86,
   "metadata": {},
   "outputs": [],
   "source": [
    "df = pd.read_csv('bikeshare.csv')"
   ]
  },
  {
   "cell_type": "markdown",
   "metadata": {},
   "source": [
    "### (a)"
   ]
  },
  {
   "cell_type": "markdown",
   "metadata": {},
   "source": [
    "**Perform linear regression (OLS) of cnt (total count of rented bikes) against holiday (1 if holiday, 0 otherwise), temp (temperature in Celsius), hum (humidity), and windspeed (wind speed).**"
   ]
  },
  {
   "cell_type": "code",
   "execution_count": 87,
   "metadata": {},
   "outputs": [
    {
     "data": {
      "text/html": [
       "<style>#sk-container-id-4 {color: black;background-color: white;}#sk-container-id-4 pre{padding: 0;}#sk-container-id-4 div.sk-toggleable {background-color: white;}#sk-container-id-4 label.sk-toggleable__label {cursor: pointer;display: block;width: 100%;margin-bottom: 0;padding: 0.3em;box-sizing: border-box;text-align: center;}#sk-container-id-4 label.sk-toggleable__label-arrow:before {content: \"▸\";float: left;margin-right: 0.25em;color: #696969;}#sk-container-id-4 label.sk-toggleable__label-arrow:hover:before {color: black;}#sk-container-id-4 div.sk-estimator:hover label.sk-toggleable__label-arrow:before {color: black;}#sk-container-id-4 div.sk-toggleable__content {max-height: 0;max-width: 0;overflow: hidden;text-align: left;background-color: #f0f8ff;}#sk-container-id-4 div.sk-toggleable__content pre {margin: 0.2em;color: black;border-radius: 0.25em;background-color: #f0f8ff;}#sk-container-id-4 input.sk-toggleable__control:checked~div.sk-toggleable__content {max-height: 200px;max-width: 100%;overflow: auto;}#sk-container-id-4 input.sk-toggleable__control:checked~label.sk-toggleable__label-arrow:before {content: \"▾\";}#sk-container-id-4 div.sk-estimator input.sk-toggleable__control:checked~label.sk-toggleable__label {background-color: #d4ebff;}#sk-container-id-4 div.sk-label input.sk-toggleable__control:checked~label.sk-toggleable__label {background-color: #d4ebff;}#sk-container-id-4 input.sk-hidden--visually {border: 0;clip: rect(1px 1px 1px 1px);clip: rect(1px, 1px, 1px, 1px);height: 1px;margin: -1px;overflow: hidden;padding: 0;position: absolute;width: 1px;}#sk-container-id-4 div.sk-estimator {font-family: monospace;background-color: #f0f8ff;border: 1px dotted black;border-radius: 0.25em;box-sizing: border-box;margin-bottom: 0.5em;}#sk-container-id-4 div.sk-estimator:hover {background-color: #d4ebff;}#sk-container-id-4 div.sk-parallel-item::after {content: \"\";width: 100%;border-bottom: 1px solid gray;flex-grow: 1;}#sk-container-id-4 div.sk-label:hover label.sk-toggleable__label {background-color: #d4ebff;}#sk-container-id-4 div.sk-serial::before {content: \"\";position: absolute;border-left: 1px solid gray;box-sizing: border-box;top: 0;bottom: 0;left: 50%;z-index: 0;}#sk-container-id-4 div.sk-serial {display: flex;flex-direction: column;align-items: center;background-color: white;padding-right: 0.2em;padding-left: 0.2em;position: relative;}#sk-container-id-4 div.sk-item {position: relative;z-index: 1;}#sk-container-id-4 div.sk-parallel {display: flex;align-items: stretch;justify-content: center;background-color: white;position: relative;}#sk-container-id-4 div.sk-item::before, #sk-container-id-4 div.sk-parallel-item::before {content: \"\";position: absolute;border-left: 1px solid gray;box-sizing: border-box;top: 0;bottom: 0;left: 50%;z-index: -1;}#sk-container-id-4 div.sk-parallel-item {display: flex;flex-direction: column;z-index: 1;position: relative;background-color: white;}#sk-container-id-4 div.sk-parallel-item:first-child::after {align-self: flex-end;width: 50%;}#sk-container-id-4 div.sk-parallel-item:last-child::after {align-self: flex-start;width: 50%;}#sk-container-id-4 div.sk-parallel-item:only-child::after {width: 0;}#sk-container-id-4 div.sk-dashed-wrapped {border: 1px dashed gray;margin: 0 0.4em 0.5em 0.4em;box-sizing: border-box;padding-bottom: 0.4em;background-color: white;}#sk-container-id-4 div.sk-label label {font-family: monospace;font-weight: bold;display: inline-block;line-height: 1.2em;}#sk-container-id-4 div.sk-label-container {text-align: center;}#sk-container-id-4 div.sk-container {/* jupyter's `normalize.less` sets `[hidden] { display: none; }` but bootstrap.min.css set `[hidden] { display: none !important; }` so we also need the `!important` here to be able to override the default hidden behavior on the sphinx rendered scikit-learn.org. See: https://github.com/scikit-learn/scikit-learn/issues/21755 */display: inline-block !important;position: relative;}#sk-container-id-4 div.sk-text-repr-fallback {display: none;}</style><div id=\"sk-container-id-4\" class=\"sk-top-container\"><div class=\"sk-text-repr-fallback\"><pre>LinearRegression()</pre><b>In a Jupyter environment, please rerun this cell to show the HTML representation or trust the notebook. <br />On GitHub, the HTML representation is unable to render, please try loading this page with nbviewer.org.</b></div><div class=\"sk-container\" hidden><div class=\"sk-item\"><div class=\"sk-estimator sk-toggleable\"><input class=\"sk-toggleable__control sk-hidden--visually\" id=\"sk-estimator-id-4\" type=\"checkbox\" checked><label for=\"sk-estimator-id-4\" class=\"sk-toggleable__label sk-toggleable__label-arrow\">LinearRegression</label><div class=\"sk-toggleable__content\"><pre>LinearRegression()</pre></div></div></div></div></div>"
      ],
      "text/plain": [
       "LinearRegression()"
      ]
     },
     "execution_count": 87,
     "metadata": {},
     "output_type": "execute_result"
    }
   ],
   "source": [
    "X = df[['holiday', 'temp', 'hum', 'windspeed']]\n",
    "y = df['cnt']\n",
    "\n",
    "linear_regression = LinearRegression()\n",
    "linear_regression.fit(X, y)"
   ]
  },
  {
   "cell_type": "markdown",
   "metadata": {},
   "source": [
    "**What is wOLS?**"
   ]
  },
  {
   "cell_type": "code",
   "execution_count": 88,
   "metadata": {},
   "outputs": [
    {
     "name": "stdout",
     "output_type": "stream",
     "text": [
      "the resulting coeffients of the linear regression (w1): [ -613.59010464  6610.33898469 -3109.32970846 -4808.47559877]\n",
      "the resulting intercept of the linear regression (w0): 4115.592496954672\n"
     ]
    }
   ],
   "source": [
    "print(\"the resulting coeffients of the linear regression (w1):\", linear_regression.coef_)\n",
    "print(\"the resulting intercept of the linear regression (w0):\", linear_regression.intercept_)"
   ]
  },
  {
   "cell_type": "markdown",
   "metadata": {},
   "source": [
    "**Are the coeﬀicients what you would expect?**\n",
    "\n",
    "Yes\n",
    "- holiday coeffient: -613.59010464\n",
    "    - This indicates that bike rentals decrease on holidays.\n",
    "    - As expected, there are fewer commuters on holidays.\n",
    "- temp coeffient: 6610.33898469\n",
    "    - This indicates that bike rentals increase as the temperature increases.\n",
    "    - As expected, people are more likely to use bikes in warmer weather.\n",
    "- hum coeffient: -3109.32970846\n",
    "    - This indicates that bike rentals decrease as humidity increases.\n",
    "    - As expected, high humidity makes biking uncomfortable.\n",
    "- windspeed coeffient: -4808.47559877\n",
    "    - This indicates that bike rentals decrease as wind speed increases.\n",
    "    - As expected, strong winds make cycling challenging."
   ]
  },
  {
   "cell_type": "markdown",
   "metadata": {},
   "source": [
    "## problem 2"
   ]
  },
  {
   "cell_type": "code",
   "execution_count": 89,
   "metadata": {},
   "outputs": [],
   "source": [
    "df = pd.read_csv('bc_data.csv')"
   ]
  },
  {
   "cell_type": "markdown",
   "metadata": {},
   "source": [
    "### (a)"
   ]
  },
  {
   "cell_type": "markdown",
   "metadata": {},
   "source": [
    "**Perform 5-fold CV to choose between logistic regression, LDA, and Naive Bayes.**"
   ]
  },
  {
   "cell_type": "code",
   "execution_count": 90,
   "metadata": {},
   "outputs": [],
   "source": [
    "X = df.iloc[:, 2:]\n",
    "y = df.iloc[:, 1]\n",
    "\n",
    "X_train, X_test, y_train, y_test = train_test_split(X, y, test_size=0.30, random_state=42)\n",
    "\n",
    "logistic_regression = LogisticRegression()\n",
    "lda = LinearDiscriminantAnalysis()\n",
    "naive_bayes = GaussianNB()\n",
    "\n",
    "logistic_regression_scores = cross_val_score(logistic_regression, X_train, y_train, cv=5)\n",
    "lda_scores = cross_val_score(lda, X_train, y_train, cv=5)\n",
    "naive_bayes_scores = cross_val_score(naive_bayes, X_train, y_train, cv=5)"
   ]
  },
  {
   "cell_type": "markdown",
   "metadata": {},
   "source": [
    "**Provide a table with the accuracy of each classifier on each fold of the data (measured in terms of proportion of correct predictions).**"
   ]
  },
  {
   "cell_type": "code",
   "execution_count": 91,
   "metadata": {},
   "outputs": [
    {
     "data": {
      "text/html": [
       "<div>\n",
       "<style scoped>\n",
       "    .dataframe tbody tr th:only-of-type {\n",
       "        vertical-align: middle;\n",
       "    }\n",
       "\n",
       "    .dataframe tbody tr th {\n",
       "        vertical-align: top;\n",
       "    }\n",
       "\n",
       "    .dataframe thead th {\n",
       "        text-align: right;\n",
       "    }\n",
       "</style>\n",
       "<table border=\"1\" class=\"dataframe\">\n",
       "  <thead>\n",
       "    <tr style=\"text-align: right;\">\n",
       "      <th></th>\n",
       "      <th>Fold 1</th>\n",
       "      <th>Fold 2</th>\n",
       "      <th>Fold 3</th>\n",
       "      <th>Fold 4</th>\n",
       "      <th>Fold 5</th>\n",
       "    </tr>\n",
       "  </thead>\n",
       "  <tbody>\n",
       "    <tr>\n",
       "      <th>Logistic Regression</th>\n",
       "      <td>0.949367</td>\n",
       "      <td>0.949367</td>\n",
       "      <td>0.923077</td>\n",
       "      <td>0.948718</td>\n",
       "      <td>0.935897</td>\n",
       "    </tr>\n",
       "    <tr>\n",
       "      <th>LDA</th>\n",
       "      <td>0.949367</td>\n",
       "      <td>0.936709</td>\n",
       "      <td>0.923077</td>\n",
       "      <td>0.961538</td>\n",
       "      <td>0.935897</td>\n",
       "    </tr>\n",
       "    <tr>\n",
       "      <th>Naive Bayes</th>\n",
       "      <td>0.962025</td>\n",
       "      <td>0.924051</td>\n",
       "      <td>0.923077</td>\n",
       "      <td>0.948718</td>\n",
       "      <td>0.897436</td>\n",
       "    </tr>\n",
       "  </tbody>\n",
       "</table>\n",
       "</div>"
      ],
      "text/plain": [
       "                       Fold 1    Fold 2    Fold 3    Fold 4    Fold 5\n",
       "Logistic Regression  0.949367  0.949367  0.923077  0.948718  0.935897\n",
       "LDA                  0.949367  0.936709  0.923077  0.961538  0.935897\n",
       "Naive Bayes          0.962025  0.924051  0.923077  0.948718  0.897436"
      ]
     },
     "execution_count": 91,
     "metadata": {},
     "output_type": "execute_result"
    }
   ],
   "source": [
    "results = pd.DataFrame({\n",
    "    'Fold 1': [logistic_regression_scores[0], lda_scores[0], naive_bayes_scores[0]],\n",
    "    'Fold 2': [logistic_regression_scores[1], lda_scores[1], naive_bayes_scores[1]],\n",
    "    'Fold 3': [logistic_regression_scores[2], lda_scores[2], naive_bayes_scores[2]],\n",
    "    'Fold 4': [logistic_regression_scores[3], lda_scores[3], naive_bayes_scores[3]],\n",
    "    'Fold 5': [logistic_regression_scores[4], lda_scores[4], naive_bayes_scores[4]]\n",
    "}, index=['Logistic Regression', 'LDA', 'Naive Bayes'])\n",
    "\n",
    "results"
   ]
  },
  {
   "cell_type": "markdown",
   "metadata": {},
   "source": [
    "**Which classifier should you select?**"
   ]
  },
  {
   "cell_type": "code",
   "execution_count": 92,
   "metadata": {},
   "outputs": [
    {
     "name": "stdout",
     "output_type": "stream",
     "text": [
      "logistic regression accuracy: 0.94129\n",
      "LDA accuracy: 0.94132\n",
      "Naive Bayes accuracy: 0.93106\n"
     ]
    }
   ],
   "source": [
    "print(\"logistic regression accuracy: %0.5f\" % (logistic_regression_scores.mean()))\n",
    "print(\"LDA accuracy: %0.5f\" % (lda_scores.mean()))\n",
    "print(\"Naive Bayes accuracy: %0.5f\" % (naive_bayes_scores.mean()))"
   ]
  },
  {
   "cell_type": "markdown",
   "metadata": {},
   "source": [
    "Since the 5-fold cross-validation results showed that LDA had the highest average accuracy, LDA should be chosen."
   ]
  },
  {
   "cell_type": "markdown",
   "metadata": {},
   "source": [
    "### (b)"
   ]
  },
  {
   "cell_type": "markdown",
   "metadata": {},
   "source": [
    "**We now turn to visualizing the data. Using only features 21 and 28 (i.e., 22 and 29-th columns), plot the data in R2, using markers o/+ for the categories 0/1.**"
   ]
  },
  {
   "cell_type": "code",
   "execution_count": 93,
   "metadata": {},
   "outputs": [
    {
     "data": {
      "image/png": "[encoded data removed]",
      "text/plain": [
       "<Figure size 432x288 with 1 Axes>"
      ]
     },
     "metadata": {
      "needs_background": "light"
     },
     "output_type": "display_data"
    }
   ],
   "source": [
    "X = df.iloc[:, [22, 29]]  \n",
    "y = df.iloc[:, 1]        \n",
    "\n",
    "fig, ax = plt.subplots()\n",
    "\n",
    "ax.scatter(X[y == 0].iloc[:, 0], X[y == 0].iloc[:, 1], marker='o', label='Benign')\n",
    "ax.scatter(X[y == 1].iloc[:, 0], X[y == 1].iloc[:, 1], marker='+', label='Malignant')\n",
    "\n",
    "ax.set_xlabel('Feature 21')\n",
    "ax.set_ylabel('Feature 28')\n",
    "\n",
    "box = ax.get_position()\n",
    "ax.set_position([box.x0, box.y0, box.width * 0.8, box.height])\n",
    "ax.legend(loc='center left', bbox_to_anchor=(1, 0.5))\n",
    "\n",
    "plt.show()"
   ]
  },
  {
   "cell_type": "markdown",
   "metadata": {},
   "source": [
    "**Perform logistic regression and LDA classification by regressing the diagnosis only on these two features, and plot the line corresponding to the decision boundary in each case.**"
   ]
  },
  {
   "cell_type": "code",
   "execution_count": 94,
   "metadata": {},
   "outputs": [
    {
     "data": {
      "image/png": "[encoded data removed]",
      "text/plain": [
       "<Figure size 432x288 with 1 Axes>"
      ]
     },
     "metadata": {
      "needs_background": "light"
     },
     "output_type": "display_data"
    }
   ],
   "source": [
    "logistic_regression = LogisticRegression()\n",
    "lda = LinearDiscriminantAnalysis()\n",
    "\n",
    "logistic_regression = logistic_regression.fit(X, y)\n",
    "lda = lda.fit(X, y)\n",
    "\n",
    "x_range = np.linspace(X.iloc[:, 0].min(), X.iloc[:, 0].max(), 200)\n",
    "\n",
    "lda_coef_21 = lda.coef_[0, 0]\n",
    "lda_coef_28 = lda.coef_[0, 1]\n",
    "lda_intercept = lda.intercept_[0]\n",
    "lda_boundary = (-lda_intercept - lda_coef_21 * x_range) / lda_coef_28\n",
    "\n",
    "logistic_regression_coef_21 = logistic_regression.coef_[0, 0]\n",
    "logistic_regression_coef_28 = logistic_regression.coef_[0, 1]\n",
    "logistic_regression_intercept = logistic_regression.intercept_[0]\n",
    "\n",
    "logistic_regression_boundary = (-logistic_regression_intercept - logistic_regression_coef_21 * x_range) / logistic_regression_coef_28\n",
    "\n",
    "fig, ax = plt.subplots()\n",
    "\n",
    "ax.scatter(X[y == 0].iloc[:, 0], X[y == 0].iloc[:, 1], marker='o', label='Benign', alpha=0.8)\n",
    "ax.scatter(X[y == 1].iloc[:, 0], X[y == 1].iloc[:, 1], marker='+', label='Malignant', alpha=0.8)\n",
    "\n",
    "ax.plot(x_range, lda_boundary, '-', color='C3', label='LDA Decision Boundary')\n",
    "ax.plot(x_range, logistic_regression_boundary, '-', color='C4', label='Logistic Regression Decision Boundary')\n",
    "\n",
    "ax.set_xlabel('Feature 21')\n",
    "ax.set_ylabel('Feature 28')\n",
    "ax.set_xlim(X.iloc[:, 0].min(), X.iloc[:, 0].max())\n",
    "ax.set_ylim(-0.05, 0.32)\n",
    "\n",
    "box = ax.get_position()\n",
    "ax.set_position([box.x0, box.y0, box.width * 0.8, box.height])\n",
    "ax.legend(loc='center left', bbox_to_anchor=(1, 0.5))\n",
    "\n",
    "plt.show()\n"
   ]
  },
  {
   "cell_type": "markdown",
   "metadata": {},
   "source": [
    "## problem 3"
   ]
  },
  {
   "cell_type": "code",
   "execution_count": 95,
   "metadata": {},
   "outputs": [],
   "source": [
    "df = pd.read_csv('bc_data.csv')\n",
    "\n",
    "X_train = df.iloc[:400, 2:]  \n",
    "y_train = df.iloc[:400, 1]  \n",
    "\n",
    "X_test = df.iloc[400:, 2:]   \n",
    "y_test = df.iloc[400:, 1]  "
   ]
  },
  {
   "cell_type": "markdown",
   "metadata": {},
   "source": [
    "### (a)"
   ]
  },
  {
   "cell_type": "markdown",
   "metadata": {},
   "source": [
    "**Train a decision tree (with default settings) on the training data. Report the fraction of test points that are classified correctly using the decision tree.**"
   ]
  },
  {
   "cell_type": "code",
   "execution_count": 96,
   "metadata": {},
   "outputs": [
    {
     "name": "stdout",
     "output_type": "stream",
     "text": [
      "Decision Tree test set accuracy: 0.9437\n"
     ]
    }
   ],
   "source": [
    "decision_tree = DecisionTreeClassifier()\n",
    "decision_tree = decision_tree.fit(X_train, y_train)\n",
    "\n",
    "print(f\"Decision Tree test set accuracy: {accuracy_score(y_test, decision_tree.predict(X_test)):.4f}\")"
   ]
  },
  {
   "cell_type": "markdown",
   "metadata": {},
   "source": [
    "### (b)"
   ]
  },
  {
   "cell_type": "markdown",
   "metadata": {},
   "source": [
    "**Visualize the trained decision tree.**"
   ]
  },
  {
   "cell_type": "code",
   "execution_count": 97,
   "metadata": {},
   "outputs": [
    {
     "data": {
      "image/png": "[encoded data removed]",
      "text/plain": [
       "<Figure size 1440x720 with 1 Axes>"
      ]
     },
     "metadata": {
      "needs_background": "light"
     },
     "output_type": "display_data"
    }
   ],
   "source": [
    "plt.figure(figsize=(20,10))\n",
    "plt.show(tree.plot_tree(decision_tree))"
   ]
  },
  {
   "cell_type": "markdown",
   "metadata": {},
   "source": [
    "**Suppose we consider a feature to be “important” if it appears in one of the splits in the top three layers of the decision tree. Which features are considered to be important, according to the trained tree?**"
   ]
  },
  {
   "cell_type": "code",
   "execution_count": 98,
   "metadata": {},
   "outputs": [
    {
     "name": "stdout",
     "output_type": "stream",
     "text": [
      "Decision Tree important features: ['radius_worst', 'points_worst', 'texture_se', 'dimension_worst', 'texture_worst', 'concavity_worst']\n"
     ]
    }
   ],
   "source": [
    "important_indices = [20, 27, 11, 29, 21, 26]\n",
    "important_features = [X_train.columns[i] for i in important_indices]\n",
    "\n",
    "print(\"Decision Tree important features:\", important_features)"
   ]
  },
  {
   "cell_type": "markdown",
   "metadata": {},
   "source": [
    "### (c)"
   ]
  },
  {
   "cell_type": "markdown",
   "metadata": {},
   "source": [
    "**Now use bagging: Create an ensemble of 100 decision trees, where each tree is trained on a bootstrapped sample of 300 data points (randomly sampled, with replacement, from the training data set). The prediction for a test point is computed using a majority vote among the 100 trained trees. Report the fraction of test points that are classified correctly using the ensemble, and compare it to (a).**"
   ]
  },
  {
   "cell_type": "code",
   "execution_count": 99,
   "metadata": {},
   "outputs": [
    {
     "name": "stdout",
     "output_type": "stream",
     "text": [
      "Bagging Clasifier test set accuracy: 0.9563\n"
     ]
    }
   ],
   "source": [
    "bagging_classifier = BaggingClassifier(n_estimators=100, max_samples=300)\n",
    "bagging_classifier.fit(X_train, y_train)\n",
    "\n",
    "print(f\"Bagging Clasifier test set accuracy: {accuracy_score(y_test, bagging_classifier.predict(X_test)):.4f}\")"
   ]
  },
  {
   "cell_type": "markdown",
   "metadata": {},
   "source": [
    "When comparing the results, the test set accuracy of the Bagging Classifier is greater than that of the Decision Tree."
   ]
  },
  {
   "cell_type": "markdown",
   "metadata": {},
   "source": [
    "### (d)"
   ]
  },
  {
   "cell_type": "markdown",
   "metadata": {},
   "source": [
    "**Use the same criterion as in (b) to determine which features are important for each of the 100 trees in the ensemble.** "
   ]
  },
  {
   "cell_type": "code",
   "execution_count": 100,
   "metadata": {},
   "outputs": [],
   "source": [
    "features = X_train.columns.tolist()\n",
    "features_count = {feature: 0 for feature in features}\n",
    "\n",
    "for tree in bagging_classifier.estimators_:\n",
    "    tree_structure = tree.tree_\n",
    "    nodes = tree_structure.node_count\n",
    "    for node in range(min(7, nodes)): # check until nodes in top three layers\n",
    "        if tree_structure.feature[node] != -2: # if not leaf node\n",
    "            feature = features[tree_structure.feature[node]]\n",
    "            features_count[feature] += 1"
   ]
  },
  {
   "cell_type": "markdown",
   "metadata": {},
   "source": [
    "**What are the 5 most important features overall, ranked according to the number of times they appear as important features among the 100 trees in the ensemble?**"
   ]
  },
  {
   "cell_type": "code",
   "execution_count": 101,
   "metadata": {},
   "outputs": [
    {
     "name": "stdout",
     "output_type": "stream",
     "text": [
      "Bagging Classifier important features: {'points_worst': 96, 'area_se': 51, 'perimeter_worst': 47, 'area_worst': 39, 'radius_se': 29}\n"
     ]
    }
   ],
   "source": [
    "important_features = dict(sorted(features_count.items(), key=lambda x: x[1], reverse=True)[:5])\n",
    "print(\"Bagging Classifier important features:\", important_features)"
   ]
  },
  {
   "cell_type": "markdown",
   "metadata": {},
   "source": [
    "### (e)"
   ]
  },
  {
   "cell_type": "markdown",
   "metadata": {},
   "source": [
    "**Instead of bagging, by using random forest, repeat the problems (c) and (d).**"
   ]
  },
  {
   "cell_type": "code",
   "execution_count": 102,
   "metadata": {},
   "outputs": [
    {
     "name": "stdout",
     "output_type": "stream",
     "text": [
      "Random Forest test set accuracy: 0.9625\n"
     ]
    }
   ],
   "source": [
    "random_foreset = RandomForestClassifier(n_estimators=100, max_samples=300)\n",
    "random_foreset.fit(X_train, y_train)\n",
    "\n",
    "print(f\"Random Forest test set accuracy: {accuracy_score(y_test, random_foreset.predict(X_test)):.4f}\")"
   ]
  },
  {
   "cell_type": "markdown",
   "metadata": {},
   "source": [
    "When comparing the results, the test set accuracy of the Random Forest is greater than that of the Decision Tree."
   ]
  },
  {
   "cell_type": "code",
   "execution_count": 103,
   "metadata": {},
   "outputs": [
    {
     "name": "stdout",
     "output_type": "stream",
     "text": [
      "Random Forest important features: {'points_worst': 54, 'area_worst': 38, 'perimeter_worst': 36, 'radius_worst': 35, 'points_mean': 31}\n"
     ]
    }
   ],
   "source": [
    "features = X_train.columns.tolist()\n",
    "features_count = {feature: 0 for feature in features}\n",
    "\n",
    "for tree in random_foreset.estimators_:\n",
    "    tree_structure = tree.tree_\n",
    "    nodes = tree_structure.node_count\n",
    "    for node in range(min(7, nodes)): # check until nodes in top 3 layers\n",
    "        if tree_structure.feature[node] != -2: # if not leaf node\n",
    "            feature = features[tree_structure.feature[node]]\n",
    "            features_count[feature] += 1\n",
    "\n",
    "important_features = dict(sorted(features_count.items(), key=lambda x: x[1], reverse=True)[:5])\n",
    "print(\"Random Forest important features:\", important_features)"
   ]
  },
  {
   "cell_type": "markdown",
   "metadata": {},
   "source": [
    "**After obtaining the 5 most important features, compare those features with the top 5 features resulting from the ‘feature importance’ attribute of the classifier**"
   ]
  },
  {
   "cell_type": "code",
   "execution_count": 104,
   "metadata": {},
   "outputs": [
    {
     "name": "stdout",
     "output_type": "stream",
     "text": [
      "Random Forest feature importance: {'points_worst': 0.14013276186962248, 'perimeter_worst': 0.11297035826021767, 'area_worst': 0.10687254992981493, 'radius_worst': 0.09023649317214325, 'points_mean': 0.08911604990876103}\n"
     ]
    }
   ],
   "source": [
    "features = X_train.columns.tolist()\n",
    "importance = random_foreset.feature_importances_\n",
    "\n",
    "features_importance = dict(zip(features, importance))\n",
    "print(\"Random Forest feature importance:\", dict(sorted(features_importance.items(), key=lambda x: x[1], reverse=True)[:5]))"
   ]
  },
  {
   "cell_type": "markdown",
   "metadata": {},
   "source": [
    "top 5 most important features appeared in top three layers: 'points_worst', 'area_worst', 'perimeter_worst', 'radius_worst', 'points_mean'\n",
    "\n",
    "top 5 most important features from feature importance attribute: 'points_worst', 'perimeter_worst', 'area_worst', 'radius_worst', 'points_mean'\n",
    "\n",
    "The same five features were selected, although the order of importance differs."
   ]
  },
  {
   "cell_type": "markdown",
   "metadata": {},
   "source": [
    "## Problem 4"
   ]
  },
  {
   "cell_type": "code",
   "execution_count": 105,
   "metadata": {},
   "outputs": [],
   "source": [
    "df = pd.read_csv('CommonBank.csv')"
   ]
  },
  {
   "cell_type": "markdown",
   "metadata": {},
   "source": [
    "### (a)"
   ]
  },
  {
   "cell_type": "markdown",
   "metadata": {},
   "source": [
    "**First, exclude ID and ZIP.code from the features. Use StandardScaler to perform normalization to standardize the scale of all features. Split the first 4,000 records as the training set and the remaining 1,000 records as the test set.**"
   ]
  },
  {
   "cell_type": "code",
   "execution_count": 106,
   "metadata": {},
   "outputs": [],
   "source": [
    "features = df.drop(['ID', 'ZIP Code'], axis=1)\n",
    "\n",
    "scaler = StandardScaler()\n",
    "scaled_features = scaler.fit_transform(features)\n",
    "\n",
    "X = features.drop('PersonalLoan', axis=1)\n",
    "y = features['PersonalLoan']\n",
    "\n",
    "X_train = X[:4000]\n",
    "y_train = y[:4000]\n",
    "\n",
    "X_test = X[4000:]\n",
    "y_test = y[4000:]"
   ]
  },
  {
   "cell_type": "markdown",
   "metadata": {},
   "source": [
    "**Compare the distribution of the target variable between the training and test sets to ensure they are similar.**"
   ]
  },
  {
   "cell_type": "code",
   "execution_count": 107,
   "metadata": {},
   "outputs": [
    {
     "name": "stdout",
     "output_type": "stream",
     "text": [
      "y_train distribution:\n",
      "PersonalLoan\n",
      "0    0.90075\n",
      "1    0.09925\n",
      "Name: proportion, dtype: float64\n",
      "\n",
      "y_test distribution:\n",
      "PersonalLoan\n",
      "0    0.917\n",
      "1    0.083\n",
      "Name: proportion, dtype: float64\n"
     ]
    },
    {
     "data": {
      "image/png": "[encoded data removed]",
      "text/plain": [
       "<Figure size 720x360 with 2 Axes>"
      ]
     },
     "metadata": {
      "needs_background": "light"
     },
     "output_type": "display_data"
    }
   ],
   "source": [
    "y_train_distribution = y_train.value_counts(normalize=True)\n",
    "y_test_distribution = y_test.value_counts(normalize=True)\n",
    "\n",
    "print(\"y_train distribution:\")\n",
    "print(y_train_distribution)\n",
    "print(\"\\ny_test distribution:\")\n",
    "print(y_test_distribution)\n",
    "\n",
    "plt.figure(figsize=(10, 5))\n",
    "plt.subplot(1, 2, 1)\n",
    "y_train_distribution.plot(kind='bar')\n",
    "plt.title('Training Set Target distribution')\n",
    "plt.xlabel('Class')\n",
    "plt.ylabel('Proportion')\n",
    "plt.xticks(rotation=0)\n",
    "\n",
    "plt.subplot(1, 2, 2)\n",
    "y_test_distribution.plot(kind='bar')\n",
    "plt.title('Test Set Target Distribution')\n",
    "plt.xlabel('Class')\n",
    "plt.ylabel('Proportion')\n",
    "plt.xticks(rotation=0)\n",
    "\n",
    "plt.tight_layout()\n",
    "plt.show()"
   ]
  },
  {
   "cell_type": "markdown",
   "metadata": {},
   "source": [
    "The distributions of the two can be considered almost identical."
   ]
  },
  {
   "cell_type": "markdown",
   "metadata": {},
   "source": [
    "### (b)"
   ]
  },
  {
   "cell_type": "markdown",
   "metadata": {},
   "source": [
    "**Apply 5-NN and analyze the results.**"
   ]
  },
  {
   "cell_type": "code",
   "execution_count": 108,
   "metadata": {},
   "outputs": [
    {
     "name": "stdout",
     "output_type": "stream",
     "text": [
      "KNN test set accuracy: 0.9100\n"
     ]
    }
   ],
   "source": [
    "knn = KNeighborsClassifier(n_neighbors=5).fit(X_train, y_train)\n",
    "\n",
    "y_pred = knn.predict(X_test)\n",
    "print(f\"KNN test set accuracy: {accuracy_score(y_test, y_pred):.4f}\")"
   ]
  },
  {
   "cell_type": "code",
   "execution_count": 109,
   "metadata": {},
   "outputs": [
    {
     "data": {
      "image/png": "[encoded data removed]",
      "text/plain": [
       "<Figure size 432x288 with 2 Axes>"
      ]
     },
     "metadata": {
      "needs_background": "light"
     },
     "output_type": "display_data"
    }
   ],
   "source": [
    "cm = confusion_matrix(y_test, y_pred)\n",
    "disp = ConfusionMatrixDisplay(confusion_matrix=cm, display_labels=knn.classes_)\n",
    "disp.plot()\n",
    "plt.show()"
   ]
  },
  {
   "cell_type": "markdown",
   "metadata": {},
   "source": [
    "Predicting all data as 0 still achieves an accuracy of 91.7%. Therefore, an accuracy of 91%, which is similar to 91.7%, cannot be considered high."
   ]
  },
  {
   "cell_type": "markdown",
   "metadata": {},
   "source": [
    "### (c)"
   ]
  },
  {
   "cell_type": "markdown",
   "metadata": {},
   "source": [
    "**Use the last 800 records of the training set as a validation set. Apply k-NN with various values of k and compare prediction performance. Which value of k provides the best model performance?**"
   ]
  },
  {
   "cell_type": "code",
   "execution_count": 110,
   "metadata": {},
   "outputs": [
    {
     "name": "stdout",
     "output_type": "stream",
     "text": [
      "     k  accuracy\n",
      "0    1   0.90750\n",
      "1    2   0.91750\n",
      "2    3   0.90375\n",
      "3    4   0.91375\n",
      "4    5   0.91250\n",
      "5    6   0.91000\n",
      "6    7   0.90500\n",
      "7    8   0.90750\n",
      "8    9   0.90500\n",
      "9   10   0.90500\n",
      "10  11   0.90375\n",
      "11  12   0.90500\n",
      "12  13   0.90375\n",
      "13  14   0.90375\n"
     ]
    }
   ],
   "source": [
    "X_train = X[:3200]\n",
    "y_train = y[:3200]\n",
    "\n",
    "X_val = X[3200:4000]\n",
    "y_val = y[3200:4000]\n",
    "\n",
    "results = []\n",
    "for k in range(1, 15):\n",
    "    knn = KNeighborsClassifier(n_neighbors=k).fit(X_train, y_train)\n",
    "    results.append({\n",
    "        'k': k,\n",
    "        'accuracy': accuracy_score(y_val, knn.predict(X_val))\n",
    "    })\n",
    "\n",
    "results = pd.DataFrame(results)\n",
    "print(results)"
   ]
  },
  {
   "cell_type": "markdown",
   "metadata": {},
   "source": [
    "When k=2, the highest accuracy on the validation data is achieved."
   ]
  },
  {
   "cell_type": "code",
   "execution_count": 111,
   "metadata": {},
   "outputs": [
    {
     "name": "stdout",
     "output_type": "stream",
     "text": [
      "knn test set accuracy: 0.9160\n"
     ]
    }
   ],
   "source": [
    "knn = KNeighborsClassifier(n_neighbors=2)\n",
    "\n",
    "knn.fit(X_train, y_train)\n",
    "print(f\"knn test set accuracy: {accuracy_score(y_test, knn.predict(X_test)):.4f}\")"
   ]
  },
  {
   "cell_type": "markdown",
   "metadata": {},
   "source": [
    "### (d)"
   ]
  },
  {
   "cell_type": "markdown",
   "metadata": {},
   "source": [
    "**Perform 5-fold cross-validation on the training set, repeated five times, to find the best k value. Use this best k value to create the final model and apply it to the test set. Report the model’s performance.**"
   ]
  },
  {
   "cell_type": "code",
   "execution_count": 117,
   "metadata": {},
   "outputs": [
    {
     "name": "stdout",
     "output_type": "stream",
     "text": [
      "final model test set accuracy: 0.9100\n"
     ]
    }
   ],
   "source": [
    "X_train = X[:4000]\n",
    "y_train = y[:4000]\n",
    "\n",
    "rkf = RepeatedKFold(n_splits=5, n_repeats=5)\n",
    "cv_scores = {}\n",
    "for k in range(1, 15):\n",
    "    knn = KNeighborsClassifier(n_neighbors=k)\n",
    "    scores = cross_val_score(knn, X_train, y_train, cv=rkf)\n",
    "    cv_scores[k] = scores.mean()\n",
    "\n",
    "best_k = max(cv_scores.items(), key=lambda x: x[1])[0]\n",
    "\n",
    "final_model = KNeighborsClassifier(n_neighbors=best_k)\n",
    "\n",
    "final_model.fit(X_train, y_train)\n",
    "print(f\"final model test set accuracy: {accuracy_score(y_test, final_model.predict(X_test)):.4f}\")"
   ]
  },
  {
   "cell_type": "markdown",
   "metadata": {},
   "source": [
    "### (e)"
   ]
  },
  {
   "cell_type": "markdown",
   "metadata": {},
   "source": [
    "**Compare the advantages and disadvantages of the training methods used in steps 3 and 4.**"
   ]
  },
  {
   "cell_type": "markdown",
   "metadata": {},
   "source": [
    "In (c), Train/Val Split was used,\n",
    "\n",
    "Advantages\n",
    "- straightforward and easy to implement\n",
    "- computationally efficient\n",
    "- works well with a limited computational resources\n",
    "\n",
    "Disadvantages\n",
    "- performance evaluation depends on the data split\n",
    "- reduces model generalizability especially in small datasets\n",
    "\n",
    "In (d), Repeated k-Fold Cross-Validation was used,\n",
    "\n",
    "Advantages\n",
    "- more robust performance estimate\n",
    "- maximize the dataset’s utility\n",
    "- reliable evaluation even with small datasets\n",
    "- less prone to overfitting\n",
    "\n",
    "Disadvantages\n",
    "- longer training time\n",
    "- increases computational cost\n",
    "- not exactly reflect the behavior of a single deployed model"
   ]
  }
 ],
 "metadata": {
  "kernelspec": {
   "display_name": "Python 3",
   "language": "python",
   "name": "python3"
  },
  "language_info": {
   "codemirror_mode": {
    "name": "ipython",
    "version": 3
   },
   "file_extension": ".py",
   "mimetype": "text/x-python",
   "name": "python",
   "nbconvert_exporter": "python",
   "pygments_lexer": "ipython3",
   "version": "3.11.4"
  }
 },
 "nbformat": 4,
 "nbformat_minor": 2
}
